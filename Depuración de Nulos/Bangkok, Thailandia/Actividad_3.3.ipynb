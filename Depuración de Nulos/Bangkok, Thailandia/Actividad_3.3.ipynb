{
 "cells": [
  {
   "cell_type": "code",
   "execution_count": 50,
   "id": "205f0dd8",
   "metadata": {},
   "outputs": [
    {
     "data": {
      "text/html": [
       "<div>\n",
       "<style scoped>\n",
       "    .dataframe tbody tr th:only-of-type {\n",
       "        vertical-align: middle;\n",
       "    }\n",
       "\n",
       "    .dataframe tbody tr th {\n",
       "        vertical-align: top;\n",
       "    }\n",
       "\n",
       "    .dataframe thead th {\n",
       "        text-align: right;\n",
       "    }\n",
       "</style>\n",
       "<table border=\"1\" class=\"dataframe\">\n",
       "  <thead>\n",
       "    <tr style=\"text-align: right;\">\n",
       "      <th></th>\n",
       "      <th>id</th>\n",
       "      <th>name</th>\n",
       "      <th>description</th>\n",
       "      <th>neighbourhood_cleansed</th>\n",
       "      <th>latitude</th>\n",
       "      <th>longitude</th>\n",
       "      <th>host_id</th>\n",
       "      <th>host_name</th>\n",
       "      <th>host_since</th>\n",
       "      <th>host_location</th>\n",
       "      <th>...</th>\n",
       "      <th>number_of_reviews</th>\n",
       "      <th>number_of_reviews_ltm</th>\n",
       "      <th>number_of_reviews_l30d</th>\n",
       "      <th>number_of_reviews_ly</th>\n",
       "      <th>estimated_occupancy_l365d</th>\n",
       "      <th>estimated_revenue_l365d</th>\n",
       "      <th>review_scores_rating</th>\n",
       "      <th>review_scores_cleanliness</th>\n",
       "      <th>instant_bookable</th>\n",
       "      <th>reviews_per_month</th>\n",
       "    </tr>\n",
       "  </thead>\n",
       "  <tbody>\n",
       "    <tr>\n",
       "      <th>0</th>\n",
       "      <td>27934</td>\n",
       "      <td>Nice room with superb city view</td>\n",
       "      <td>Our cool and comfortable one bedroom apartment...</td>\n",
       "      <td>Ratchathewi</td>\n",
       "      <td>13.759830</td>\n",
       "      <td>100.541340</td>\n",
       "      <td>120437</td>\n",
       "      <td>Nuttee</td>\n",
       "      <td>2010-05-08</td>\n",
       "      <td>Bangkok, Thailand</td>\n",
       "      <td>...</td>\n",
       "      <td>65</td>\n",
       "      <td>1</td>\n",
       "      <td>0</td>\n",
       "      <td>1</td>\n",
       "      <td>30</td>\n",
       "      <td>49950.0</td>\n",
       "      <td>4.86</td>\n",
       "      <td>4.82</td>\n",
       "      <td>f</td>\n",
       "      <td>0.41</td>\n",
       "    </tr>\n",
       "    <tr>\n",
       "      <th>1</th>\n",
       "      <td>27979</td>\n",
       "      <td>Easy going landlord,easy place</td>\n",
       "      <td>NaN</td>\n",
       "      <td>Bang Na</td>\n",
       "      <td>13.668180</td>\n",
       "      <td>100.616740</td>\n",
       "      <td>120541</td>\n",
       "      <td>Emy</td>\n",
       "      <td>2010-05-08</td>\n",
       "      <td>Bangkok, Thailand</td>\n",
       "      <td>...</td>\n",
       "      <td>0</td>\n",
       "      <td>0</td>\n",
       "      <td>0</td>\n",
       "      <td>0</td>\n",
       "      <td>0</td>\n",
       "      <td>NaN</td>\n",
       "      <td>NaN</td>\n",
       "      <td>NaN</td>\n",
       "      <td>f</td>\n",
       "      <td>NaN</td>\n",
       "    </tr>\n",
       "    <tr>\n",
       "      <th>2</th>\n",
       "      <td>28745</td>\n",
       "      <td>modern-style apartment in Bangkok</td>\n",
       "      <td>A modern-style apartment situated in a cool ne...</td>\n",
       "      <td>Bang Kapi</td>\n",
       "      <td>13.752320</td>\n",
       "      <td>100.624020</td>\n",
       "      <td>123784</td>\n",
       "      <td>Familyroom</td>\n",
       "      <td>2010-05-12</td>\n",
       "      <td>Bangkok, Thailand</td>\n",
       "      <td>...</td>\n",
       "      <td>0</td>\n",
       "      <td>0</td>\n",
       "      <td>0</td>\n",
       "      <td>0</td>\n",
       "      <td>0</td>\n",
       "      <td>NaN</td>\n",
       "      <td>NaN</td>\n",
       "      <td>NaN</td>\n",
       "      <td>f</td>\n",
       "      <td>NaN</td>\n",
       "    </tr>\n",
       "    <tr>\n",
       "      <th>3</th>\n",
       "      <td>47516</td>\n",
       "      <td>Beautiful waterfront house</td>\n",
       "      <td>NaN</td>\n",
       "      <td>Don Mueang</td>\n",
       "      <td>13.927260</td>\n",
       "      <td>100.585290</td>\n",
       "      <td>214456</td>\n",
       "      <td>Anuradha</td>\n",
       "      <td>2010-08-27</td>\n",
       "      <td>New Delhi, India</td>\n",
       "      <td>...</td>\n",
       "      <td>0</td>\n",
       "      <td>0</td>\n",
       "      <td>0</td>\n",
       "      <td>0</td>\n",
       "      <td>0</td>\n",
       "      <td>0.0</td>\n",
       "      <td>NaN</td>\n",
       "      <td>NaN</td>\n",
       "      <td>f</td>\n",
       "      <td>NaN</td>\n",
       "    </tr>\n",
       "    <tr>\n",
       "      <th>4</th>\n",
       "      <td>48736</td>\n",
       "      <td>Condo with Chaopraya River View</td>\n",
       "      <td>at a size of 25sqm for your vacation in BKK.&lt;b...</td>\n",
       "      <td>Rat Burana</td>\n",
       "      <td>13.685560</td>\n",
       "      <td>100.495350</td>\n",
       "      <td>222005</td>\n",
       "      <td>Athitaya</td>\n",
       "      <td>2010-09-03</td>\n",
       "      <td>Bangkok, Thailand</td>\n",
       "      <td>...</td>\n",
       "      <td>1</td>\n",
       "      <td>0</td>\n",
       "      <td>0</td>\n",
       "      <td>0</td>\n",
       "      <td>0</td>\n",
       "      <td>0.0</td>\n",
       "      <td>5.00</td>\n",
       "      <td>5.00</td>\n",
       "      <td>f</td>\n",
       "      <td>0.01</td>\n",
       "    </tr>\n",
       "    <tr>\n",
       "      <th>...</th>\n",
       "      <td>...</td>\n",
       "      <td>...</td>\n",
       "      <td>...</td>\n",
       "      <td>...</td>\n",
       "      <td>...</td>\n",
       "      <td>...</td>\n",
       "      <td>...</td>\n",
       "      <td>...</td>\n",
       "      <td>...</td>\n",
       "      <td>...</td>\n",
       "      <td>...</td>\n",
       "      <td>...</td>\n",
       "      <td>...</td>\n",
       "      <td>...</td>\n",
       "      <td>...</td>\n",
       "      <td>...</td>\n",
       "      <td>...</td>\n",
       "      <td>...</td>\n",
       "      <td>...</td>\n",
       "      <td>...</td>\n",
       "      <td>...</td>\n",
       "    </tr>\n",
       "    <tr>\n",
       "      <th>27543</th>\n",
       "      <td>1379672358263660032</td>\n",
       "      <td>King Bed Room, 500m the Pink Line MRT,Near Air...</td>\n",
       "      <td>King bed room&lt;br /&gt;2 shared bathrooms&lt;br /&gt;Air...</td>\n",
       "      <td>Min Buri</td>\n",
       "      <td>13.806530</td>\n",
       "      <td>100.736748</td>\n",
       "      <td>679097032</td>\n",
       "      <td>Udomchai</td>\n",
       "      <td>2025-02-16</td>\n",
       "      <td>Bangkok, Thailand</td>\n",
       "      <td>...</td>\n",
       "      <td>0</td>\n",
       "      <td>0</td>\n",
       "      <td>0</td>\n",
       "      <td>0</td>\n",
       "      <td>0</td>\n",
       "      <td>0.0</td>\n",
       "      <td>NaN</td>\n",
       "      <td>NaN</td>\n",
       "      <td>f</td>\n",
       "      <td>NaN</td>\n",
       "    </tr>\n",
       "    <tr>\n",
       "      <th>27544</th>\n",
       "      <td>1379715999009659904</td>\n",
       "      <td>2.æ›¼è°·ç‰¹æƒ å…¬å¯“å‡ºç§Ÿ/æœˆç§Ÿç‰¹æƒ /ä¸€å®¤...</td>\n",
       "      <td>The project is located in Bangsue district, ju...</td>\n",
       "      <td>Bang Sue</td>\n",
       "      <td>13.818700</td>\n",
       "      <td>100.528080</td>\n",
       "      <td>653148266</td>\n",
       "      <td>Yangzi</td>\n",
       "      <td>2024-09-20</td>\n",
       "      <td>Bangkok, Thailand</td>\n",
       "      <td>...</td>\n",
       "      <td>0</td>\n",
       "      <td>0</td>\n",
       "      <td>0</td>\n",
       "      <td>0</td>\n",
       "      <td>0</td>\n",
       "      <td>0.0</td>\n",
       "      <td>NaN</td>\n",
       "      <td>NaN</td>\n",
       "      <td>f</td>\n",
       "      <td>NaN</td>\n",
       "    </tr>\n",
       "    <tr>\n",
       "      <th>27545</th>\n",
       "      <td>1379720665926449920</td>\n",
       "      <td>2.æ›¼è°·ç‰¹æƒ å…¬å¯“å‡ºç§Ÿ/æœˆç§Ÿç‰¹æƒ /ä¸€å®¤...</td>\n",
       "      <td>The project is located in Bangsue district, ju...</td>\n",
       "      <td>Bang Sue</td>\n",
       "      <td>13.818299</td>\n",
       "      <td>100.527187</td>\n",
       "      <td>653148266</td>\n",
       "      <td>Yangzi</td>\n",
       "      <td>2024-09-20</td>\n",
       "      <td>Bangkok, Thailand</td>\n",
       "      <td>...</td>\n",
       "      <td>0</td>\n",
       "      <td>0</td>\n",
       "      <td>0</td>\n",
       "      <td>0</td>\n",
       "      <td>0</td>\n",
       "      <td>0.0</td>\n",
       "      <td>NaN</td>\n",
       "      <td>NaN</td>\n",
       "      <td>f</td>\n",
       "      <td>NaN</td>\n",
       "    </tr>\n",
       "    <tr>\n",
       "      <th>27546</th>\n",
       "      <td>1379724086373710080</td>\n",
       "      <td>2.æ›¼è°·ç‰¹æƒ å…¬å¯“å‡ºç§Ÿ/æœˆç§Ÿç‰¹æƒ /ä¸€å®¤...</td>\n",
       "      <td>The project is located in Bangsue district, ju...</td>\n",
       "      <td>Bang Sue</td>\n",
       "      <td>13.817793</td>\n",
       "      <td>100.528221</td>\n",
       "      <td>653148266</td>\n",
       "      <td>Yangzi</td>\n",
       "      <td>2024-09-20</td>\n",
       "      <td>Bangkok, Thailand</td>\n",
       "      <td>...</td>\n",
       "      <td>0</td>\n",
       "      <td>0</td>\n",
       "      <td>0</td>\n",
       "      <td>0</td>\n",
       "      <td>0</td>\n",
       "      <td>0.0</td>\n",
       "      <td>NaN</td>\n",
       "      <td>NaN</td>\n",
       "      <td>f</td>\n",
       "      <td>NaN</td>\n",
       "    </tr>\n",
       "    <tr>\n",
       "      <th>27547</th>\n",
       "      <td>1379757978013220096</td>\n",
       "      <td>2.æ›¼è°·ç‰¹æƒ å…¬å¯“å‡ºç§Ÿ/æœˆç§Ÿç‰¹æƒ /ä¸€å®¤...</td>\n",
       "      <td>The project is located in Bangsue district, ju...</td>\n",
       "      <td>Bang Sue</td>\n",
       "      <td>13.817437</td>\n",
       "      <td>100.526098</td>\n",
       "      <td>653148266</td>\n",
       "      <td>Yangzi</td>\n",
       "      <td>2024-09-20</td>\n",
       "      <td>Bangkok, Thailand</td>\n",
       "      <td>...</td>\n",
       "      <td>0</td>\n",
       "      <td>0</td>\n",
       "      <td>0</td>\n",
       "      <td>0</td>\n",
       "      <td>0</td>\n",
       "      <td>0.0</td>\n",
       "      <td>NaN</td>\n",
       "      <td>NaN</td>\n",
       "      <td>f</td>\n",
       "      <td>NaN</td>\n",
       "    </tr>\n",
       "  </tbody>\n",
       "</table>\n",
       "<p>27548 rows × 50 columns</p>\n",
       "</div>"
      ],
      "text/plain": [
       "                        id                                               name  \\\n",
       "0                    27934                    Nice room with superb city view   \n",
       "1                    27979                     Easy going landlord,easy place   \n",
       "2                    28745                  modern-style apartment in Bangkok   \n",
       "3                    47516                         Beautiful waterfront house   \n",
       "4                    48736                    Condo with Chaopraya River View   \n",
       "...                    ...                                                ...   \n",
       "27543  1379672358263660032  King Bed Room, 500m the Pink Line MRT,Near Air...   \n",
       "27544  1379715999009659904  2.æ›¼è°·ç‰¹æƒ å…¬å¯“å‡ºç§Ÿ/æœˆç§Ÿç‰¹æƒ /ä¸€å®¤...   \n",
       "27545  1379720665926449920  2.æ›¼è°·ç‰¹æƒ å…¬å¯“å‡ºç§Ÿ/æœˆç§Ÿç‰¹æƒ /ä¸€å®¤...   \n",
       "27546  1379724086373710080  2.æ›¼è°·ç‰¹æƒ å…¬å¯“å‡ºç§Ÿ/æœˆç§Ÿç‰¹æƒ /ä¸€å®¤...   \n",
       "27547  1379757978013220096  2.æ›¼è°·ç‰¹æƒ å…¬å¯“å‡ºç§Ÿ/æœˆç§Ÿç‰¹æƒ /ä¸€å®¤...   \n",
       "\n",
       "                                             description  \\\n",
       "0      Our cool and comfortable one bedroom apartment...   \n",
       "1                                                    NaN   \n",
       "2      A modern-style apartment situated in a cool ne...   \n",
       "3                                                    NaN   \n",
       "4      at a size of 25sqm for your vacation in BKK.<b...   \n",
       "...                                                  ...   \n",
       "27543  King bed room<br />2 shared bathrooms<br />Air...   \n",
       "27544  The project is located in Bangsue district, ju...   \n",
       "27545  The project is located in Bangsue district, ju...   \n",
       "27546  The project is located in Bangsue district, ju...   \n",
       "27547  The project is located in Bangsue district, ju...   \n",
       "\n",
       "      neighbourhood_cleansed   latitude   longitude    host_id   host_name  \\\n",
       "0                Ratchathewi  13.759830  100.541340     120437      Nuttee   \n",
       "1                    Bang Na  13.668180  100.616740     120541         Emy   \n",
       "2                  Bang Kapi  13.752320  100.624020     123784  Familyroom   \n",
       "3                 Don Mueang  13.927260  100.585290     214456    Anuradha   \n",
       "4                 Rat Burana  13.685560  100.495350     222005    Athitaya   \n",
       "...                      ...        ...         ...        ...         ...   \n",
       "27543               Min Buri  13.806530  100.736748  679097032    Udomchai   \n",
       "27544               Bang Sue  13.818700  100.528080  653148266      Yangzi   \n",
       "27545               Bang Sue  13.818299  100.527187  653148266      Yangzi   \n",
       "27546               Bang Sue  13.817793  100.528221  653148266      Yangzi   \n",
       "27547               Bang Sue  13.817437  100.526098  653148266      Yangzi   \n",
       "\n",
       "      host_since      host_location  ... number_of_reviews  \\\n",
       "0     2010-05-08  Bangkok, Thailand  ...                65   \n",
       "1     2010-05-08  Bangkok, Thailand  ...                 0   \n",
       "2     2010-05-12  Bangkok, Thailand  ...                 0   \n",
       "3     2010-08-27   New Delhi, India  ...                 0   \n",
       "4     2010-09-03  Bangkok, Thailand  ...                 1   \n",
       "...          ...                ...  ...               ...   \n",
       "27543 2025-02-16  Bangkok, Thailand  ...                 0   \n",
       "27544 2024-09-20  Bangkok, Thailand  ...                 0   \n",
       "27545 2024-09-20  Bangkok, Thailand  ...                 0   \n",
       "27546 2024-09-20  Bangkok, Thailand  ...                 0   \n",
       "27547 2024-09-20  Bangkok, Thailand  ...                 0   \n",
       "\n",
       "       number_of_reviews_ltm  number_of_reviews_l30d number_of_reviews_ly  \\\n",
       "0                          1                       0                    1   \n",
       "1                          0                       0                    0   \n",
       "2                          0                       0                    0   \n",
       "3                          0                       0                    0   \n",
       "4                          0                       0                    0   \n",
       "...                      ...                     ...                  ...   \n",
       "27543                      0                       0                    0   \n",
       "27544                      0                       0                    0   \n",
       "27545                      0                       0                    0   \n",
       "27546                      0                       0                    0   \n",
       "27547                      0                       0                    0   \n",
       "\n",
       "       estimated_occupancy_l365d  estimated_revenue_l365d  \\\n",
       "0                             30                  49950.0   \n",
       "1                              0                      NaN   \n",
       "2                              0                      NaN   \n",
       "3                              0                      0.0   \n",
       "4                              0                      0.0   \n",
       "...                          ...                      ...   \n",
       "27543                          0                      0.0   \n",
       "27544                          0                      0.0   \n",
       "27545                          0                      0.0   \n",
       "27546                          0                      0.0   \n",
       "27547                          0                      0.0   \n",
       "\n",
       "      review_scores_rating review_scores_cleanliness instant_bookable  \\\n",
       "0                     4.86                      4.82                f   \n",
       "1                      NaN                       NaN                f   \n",
       "2                      NaN                       NaN                f   \n",
       "3                      NaN                       NaN                f   \n",
       "4                     5.00                      5.00                f   \n",
       "...                    ...                       ...              ...   \n",
       "27543                  NaN                       NaN                f   \n",
       "27544                  NaN                       NaN                f   \n",
       "27545                  NaN                       NaN                f   \n",
       "27546                  NaN                       NaN                f   \n",
       "27547                  NaN                       NaN                f   \n",
       "\n",
       "      reviews_per_month  \n",
       "0                  0.41  \n",
       "1                   NaN  \n",
       "2                   NaN  \n",
       "3                   NaN  \n",
       "4                  0.01  \n",
       "...                 ...  \n",
       "27543               NaN  \n",
       "27544               NaN  \n",
       "27545               NaN  \n",
       "27546               NaN  \n",
       "27547               NaN  \n",
       "\n",
       "[27548 rows x 50 columns]"
      ]
     },
     "execution_count": 50,
     "metadata": {},
     "output_type": "execute_result"
    }
   ],
   "source": [
    "# Cargar librerías necesarias y definir el dataframe\n",
    "import pandas as pd\n",
    "import numpy as np\n",
    "import matplotlib.pyplot as plt\n",
    "\n",
    "DF = pd.read_excel(\"Excel_Tailandia.xlsx\")\n",
    "df = DF.copy()\n",
    "df"
   ]
  },
  {
   "cell_type": "code",
   "execution_count": 51,
   "id": "104719d5",
   "metadata": {},
   "outputs": [
    {
     "data": {
      "text/plain": [
       "id                               0\n",
       "name                             0\n",
       "description                    775\n",
       "neighbourhood_cleansed           0\n",
       "latitude                         0\n",
       "longitude                        0\n",
       "host_id                          0\n",
       "host_name                        3\n",
       "host_since                       2\n",
       "host_location                 6624\n",
       "host_response_time            4066\n",
       "host_response_rate            4066\n",
       "host_acceptance_rate          4062\n",
       "host_is_superhost             1319\n",
       "host_listings_count              2\n",
       "host_total_listings_count        2\n",
       "host_has_profile_pic             2\n",
       "host_identity_verified           2\n",
       "neighbourhood                17849\n",
       "property_type                    0\n",
       "room_type                        0\n",
       "accommodates                     0\n",
       "bathrooms_text                 105\n",
       "bedrooms                      1281\n",
       "beds                          5445\n",
       "price                         5390\n",
       "minimum_nights                   0\n",
       "maximum_nights                   0\n",
       "minimum_minimum_nights           0\n",
       "maximum_minimum_nights           0\n",
       "minimum_maximum_nights           0\n",
       "maximum_maximum_nights           0\n",
       "minimum_nights_avg_ntm           0\n",
       "maximum_nights_avg_ntm           0\n",
       "has_availability              2233\n",
       "availability_30                  0\n",
       "availability_60                  0\n",
       "availability_90                  0\n",
       "availability_365                 0\n",
       "calendar_last_scraped            0\n",
       "number_of_reviews                0\n",
       "number_of_reviews_ltm            0\n",
       "number_of_reviews_l30d           0\n",
       "number_of_reviews_ly             0\n",
       "estimated_occupancy_l365d        0\n",
       "estimated_revenue_l365d       5390\n",
       "review_scores_rating          9466\n",
       "review_scores_cleanliness     9467\n",
       "instant_bookable                 0\n",
       "reviews_per_month             9466\n",
       "dtype: int64"
      ]
     },
     "execution_count": 51,
     "metadata": {},
     "output_type": "execute_result"
    }
   ],
   "source": [
    "# Identificar que columnas tiene NAs\n",
    "df.isnull().sum()"
   ]
  },
  {
   "cell_type": "code",
   "execution_count": 34,
   "id": "ee7cf255",
   "metadata": {},
   "outputs": [],
   "source": [
    "# La columnas que presentan missing values son:  \n",
    "# description                   774\n",
    "# host_name                       3\n",
    "# host_since                      2\n",
    "# host_location                6624\n",
    "# host_response_time           4066\n",
    "# host_response_rate           4066\n",
    "# host_acceptance_rate         4062\n",
    "# host_is_superhost            1319\n",
    "# host_listings_count             2\n",
    "# host_total_listings_count       2\n",
    "# host_has_profile_pic            2\n",
    "# host_identity_verified          2\n",
    "# neighbourhood                17849\n",
    "# bathrooms_text                105\n",
    "# bedrooms                     1281\n",
    "# beds                         5445\n",
    "# beds.1                       5445\n",
    "# price                        5390\n",
    "# has_availability             2233\n",
    "# estimated_revenue_l365d      5390\n",
    "# review_scores_rating         9466\n",
    "# review_scores_cleanliness    9467\n",
    "# reviews_per_month            9466\n"
   ]
  },
  {
   "cell_type": "code",
   "execution_count": 54,
   "id": "e6e1a5f1",
   "metadata": {},
   "outputs": [
    {
     "name": "stdout",
     "output_type": "stream",
     "text": [
      "0\n"
     ]
    }
   ],
   "source": [
    "# Columna 'description' con 774 NAs\n",
    "# Para tratar los NAs de esta columna es mejor sustituirlos por un string en específico 'No description provided' para poder ubicar que lugares no provieron descripción del lugar.\n",
    "df.loc[:,'description'] = df['description'].fillna(\"No description provided\")\n",
    "print(df['description'].isnull().sum())"
   ]
  },
  {
   "cell_type": "code",
   "execution_count": 55,
   "id": "52d847e5",
   "metadata": {},
   "outputs": [
    {
     "name": "stdout",
     "output_type": "stream",
     "text": [
      "0\n"
     ]
    }
   ],
   "source": [
    "# Columna 'host_name' con 3 \n",
    "# Para no eliminar los 3 registros de esta columna ya que es el nombre de los host se sustituye por un string en concreto 'Unknown' para identificar de una manera más rápida para ubicar que host tenemos que no tienen nombre.\n",
    "df.loc[:,'host_name'] = df['host_name'].fillna(\"Unknown\")\n",
    "print(df['host_name'].isnull().sum())"
   ]
  },
  {
   "cell_type": "code",
   "execution_count": 56,
   "id": "be84d000",
   "metadata": {},
   "outputs": [
    {
     "name": "stdout",
     "output_type": "stream",
     "text": [
      "0\n"
     ]
    }
   ],
   "source": [
    "# Columna 'host_since' con 2\n",
    "# Se decidió eliminar los 2 NAs de esta columna ya que no se encontro ninguna relación o patrón en las fechas en las que los host se unierón, además de que elimnar solo 2 registros de la columna no influte de manera drástica en los valores de la columna.\n",
    "df = df.dropna(subset=['host_since'])\n",
    "print(df['host_since'].isnull().sum())"
   ]
  },
  {
   "cell_type": "code",
   "execution_count": 57,
   "id": "1f972666",
   "metadata": {},
   "outputs": [
    {
     "name": "stdout",
     "output_type": "stream",
     "text": [
      "0\n"
     ]
    }
   ],
   "source": [
    "# Columna 'host_location' con 6624\n",
    "# Ya que la información de esta variable es importante, sustituir los NAs por un string en específico 'Unknown' ayudará a conocer cuáles son los lugares que no cuentan con una locación en específico y no se podría poner el valor de moda que es Bangok, Thailand ya que la columna cuenta con diferentes respuestas dentro del país así como fuera del país.\n",
    "df.loc[:, 'host_location'] = df['host_location'].fillna(\"Unknown\")\n",
    "print(df['host_location'].isnull().sum())"
   ]
  },
  {
   "cell_type": "code",
   "execution_count": 58,
   "id": "b5797625",
   "metadata": {},
   "outputs": [],
   "source": [
    "# Columna 'host_response_time' con 4066\n",
    "# Para esta columna lo más ideal es sustituirlo por a few days or more\n",
    "df.loc[:, 'host_response_time'] = df['host_response_time'].fillna('a few days or more')\n",
    "\n"
   ]
  },
  {
   "cell_type": "code",
   "execution_count": 59,
   "id": "8ea19796",
   "metadata": {},
   "outputs": [
    {
     "name": "stdout",
     "output_type": "stream",
     "text": [
      "0\n"
     ]
    }
   ],
   "source": [
    "# Columna 'host_response_rate' con 4066 ( Se utilizo la ayuda de IA para convertir el tipo de la columna  )\n",
    "# 1. Quitar el % y convertir a número\n",
    "df.loc[:, 'host_response_rate'] = (\n",
    "    df['host_response_rate']\n",
    "    .astype(str)                          # convierte todo a string\n",
    "    .str.replace('%', '', regex=True)     # quita el símbolo %\n",
    "    .replace('nan', np.nan)               # convierte 'nan' string en np.nan real\n",
    "    .replace('', np.nan)                  # también cubre strings vacíos\n",
    "    .astype(float)                        # convierte a float\n",
    ")\n",
    "\n",
    "# 2.valores nulos con la mediana\n",
    "df.loc[:, 'host_response_rate'] = df['host_response_rate'].fillna(df['host_response_rate'].median())\n",
    "print(df['host_response_rate'].isnull().sum())\n"
   ]
  },
  {
   "cell_type": "code",
   "execution_count": 60,
   "id": "c7700d03",
   "metadata": {},
   "outputs": [
    {
     "name": "stdout",
     "output_type": "stream",
     "text": [
      "0\n"
     ]
    }
   ],
   "source": [
    "# Columna 'host_acceptance_rate' con 4062  ( Se utilizo la ayuda de IA para convertir el tipo de la columna  )\n",
    "# 1. Quitar el % y convertir a número\n",
    "df.loc[:, 'host_acceptance_rate']= (\n",
    "    df['host_acceptance_rate']\n",
    "    .astype(str)                          # convierte todo a string\n",
    "    .str.replace('%', '', regex=True)     # quita el símbolo %\n",
    "    .replace('nan', np.nan)               # convierte 'nan' string en np.nan real\n",
    "    .replace('', np.nan)                  # también cubre strings vacíos\n",
    "    .astype(float)                        # convierte a float\n",
    ")\n",
    "\n",
    "# 2. valores nulos con la mediana\n",
    "df.loc[:, 'host_acceptance_rate'] = df['host_acceptance_rate'].fillna(df['host_acceptance_rate'].median())\n",
    "print(df['host_acceptance_rate'].isnull().sum())"
   ]
  },
  {
   "cell_type": "code",
   "execution_count": 61,
   "id": "01076e74",
   "metadata": {},
   "outputs": [
    {
     "name": "stdout",
     "output_type": "stream",
     "text": [
      "0\n"
     ]
    }
   ],
   "source": [
    "# Columna 'host_is_superhost' con 1319\n",
    "df.loc[:, 'host_is_superhost']= df['host_is_superhost'].fillna('f')\n",
    "\n",
    "print(df['host_is_superhost'].isnull().sum())"
   ]
  },
  {
   "cell_type": "code",
   "execution_count": 62,
   "id": "aa016f68",
   "metadata": {},
   "outputs": [
    {
     "name": "stdout",
     "output_type": "stream",
     "text": [
      "0\n"
     ]
    }
   ],
   "source": [
    "# Columnas 'host_total_listings_count' con  2          \n",
    "df.loc[:, 'host_listings_count'] = df['host_listings_count'].fillna(0)\n",
    "\n",
    "print(df['host_listings_count'].isnull().sum())"
   ]
  },
  {
   "cell_type": "code",
   "execution_count": 63,
   "id": "2a1b47a0",
   "metadata": {},
   "outputs": [
    {
     "name": "stdout",
     "output_type": "stream",
     "text": [
      "0\n",
      "0\n"
     ]
    }
   ],
   "source": [
    "# La columnas 'host_has_profile_pic' con 2, 'host_identity_verified' con 2 son categoricas, utilizando True or False como t y f.\n",
    "# La solución más optima para tratar esto NAs es a través de un string en concreto que sería 'f' ya que no impactaría de forma negativa en los valores de la columna y que lo más probable es que esos 2 registros no cuenten con la información de las variables.\n",
    "df.loc[:, 'host_has_profile_pic'] = df['host_has_profile_pic'].fillna(\"f\")\n",
    "df.loc[:, 'host_has_profile_pic'] = df['host_identity_verified'].fillna(\"f\")\n",
    "\n",
    "print(df['host_has_profile_pic'].isnull().sum())\n",
    "print(df['host_identity_verified'].isnull().sum())"
   ]
  },
  {
   "cell_type": "code",
   "execution_count": 64,
   "id": "033061b8",
   "metadata": {},
   "outputs": [
    {
     "data": {
      "text/plain": [
       "array(['1.5 baths', '1 bath', nan, '1 private bath', '3.5 baths',\n",
       "       '2 baths', '4 baths', '1 shared bath', '0 baths', '3 baths',\n",
       "       '0 shared baths', '2.5 baths', '1.5 shared baths', 'Half-bath',\n",
       "       '3 shared baths', '6 baths', '5 baths', '2 shared baths',\n",
       "       '5.5 baths', '6.5 baths', '4.5 baths', '10 shared baths',\n",
       "       '8 shared baths', '4 shared baths', '8 baths', 'Shared half-bath',\n",
       "       '2.5 shared baths', '7 baths', '4.5 shared baths',\n",
       "       '6 shared baths', '5 shared baths', '3.5 shared baths',\n",
       "       '20 shared baths', '7.5 baths', '5.5 shared baths', '8.5 baths',\n",
       "       '6.5 shared baths', 'Private half-bath', '9.5 baths',\n",
       "       '7 shared baths', '23 baths', '9 baths', '12 shared baths',\n",
       "       '10 baths', '40 baths', '9 shared baths', '30 baths',\n",
       "       '15 shared baths', '11 baths', '39 baths', '10.5 shared baths',\n",
       "       '12.5 baths', '47 baths', '28 baths', '15 baths', '49 baths',\n",
       "       '16 baths', '12 baths', '16 shared baths', '9.5 shared baths',\n",
       "       '14 shared baths', '7.5 shared baths', '13 shared baths',\n",
       "       '20 baths', '8.5 shared baths', '11.5 baths', '50 baths'],\n",
       "      dtype=object)"
      ]
     },
     "execution_count": 64,
     "metadata": {},
     "output_type": "execute_result"
    }
   ],
   "source": [
    "df['bathrooms_text'].unique()"
   ]
  },
  {
   "cell_type": "code",
   "execution_count": 65,
   "id": "90e0f0de",
   "metadata": {},
   "outputs": [
    {
     "name": "stdout",
     "output_type": "stream",
     "text": [
      "0\n"
     ]
    }
   ],
   "source": [
    "# Columna 'bathrooms_text' con 105\n",
    "# Lo mejor para esta columna es poner 0 baths ya que se puede deber a propiedades inactivas o sin baños definidos, y esa respuesta ya existe\n",
    "df.loc[:, 'bathrooms_text'] = df['bathrooms_text'].fillna('0 baths')\n",
    "print(df['bathrooms_text'].isnull().sum())"
   ]
  },
  {
   "cell_type": "code",
   "execution_count": 66,
   "id": "dbad5bcd",
   "metadata": {},
   "outputs": [
    {
     "name": "stdout",
     "output_type": "stream",
     "text": [
      "0\n"
     ]
    }
   ],
   "source": [
    "# Columna 'bedrooms' con 1281 NAs\n",
    "# Para tratar esta columna lo mejor es sustituirlo con la mediana que 1, ya que es mejor ante valores atípicos y mantendría una consistencia estadística.\n",
    "df.loc[:, 'bedrooms']=df['bedrooms'].fillna(round(df['bedrooms'].median(),0))\n",
    "print(df['bedrooms'].isnull().sum())"
   ]
  },
  {
   "cell_type": "code",
   "execution_count": 69,
   "id": "8980fd46",
   "metadata": {},
   "outputs": [
    {
     "name": "stdout",
     "output_type": "stream",
     "text": [
      "0\n"
     ]
    }
   ],
   "source": [
    "# Las columnas 'beds' con 5443 y 'beds.1' con 5443\n",
    "# Ambas columnas cuentan con los mismos valores, por lo que en ambas se trataran los NAs con la mediana que es 1 que es robusta ante distribuciones sesgadas.\n",
    "df.loc[:, 'beds']=df['beds'].fillna(round(df['beds'].mean(),1))\n",
    "# Comprobar que los cambios se hayan realizado correctamente \n",
    "print(df['beds'].isnull().sum())"
   ]
  },
  {
   "cell_type": "code",
   "execution_count": 71,
   "id": "51cf3e06",
   "metadata": {},
   "outputs": [
    {
     "name": "stdout",
     "output_type": "stream",
     "text": [
      "0\n"
     ]
    }
   ],
   "source": [
    "# Columna 'price' con  5388\n",
    "# Rellenar con 0 ya que podría tratarse de residencias inactivas\n",
    "df.loc[:, 'price'] = df['price'].fillna('0')\n",
    "print(df['price'].isnull().sum())"
   ]
  },
  {
   "cell_type": "code",
   "execution_count": 72,
   "id": "66b159cc",
   "metadata": {},
   "outputs": [
    {
     "name": "stdout",
     "output_type": "stream",
     "text": [
      "0\n"
     ]
    }
   ],
   "source": [
    "# Columna 'has_availability' con 2231 NAs\n",
    "# Para tratar esta esta columna se decidió agregar otro valor a la categoría de la varible, sustituyendo los NAs por f dando a entender que se tratan de propiedas inactivas\n",
    "df.loc[:, 'has_availability'] = df['has_availability'].fillna('f')\n",
    "print(df['has_availability'].isnull().sum())"
   ]
  },
  {
   "cell_type": "code",
   "execution_count": 73,
   "id": "c3d646bd",
   "metadata": {},
   "outputs": [
    {
     "name": "stdout",
     "output_type": "stream",
     "text": [
      "0\n"
     ]
    }
   ],
   "source": [
    "# Columna 'estimated_revenue_l365d' con 5,388 valores nulos\n",
    "# La mejor opción para sustituir los NAs es remplanzando por 0 ya que los valores representa los ingresos estimados en los últimos 365 días los que indica que los valores faltantes se pueden asumir a 0 por inactividad o sin reservas.\n",
    "df.loc[:, 'estimated_revenue_l365d'] = df['estimated_revenue_l365d'].fillna(0)\n",
    "print(df['estimated_revenue_l365d'].isnull().sum())"
   ]
  },
  {
   "cell_type": "code",
   "execution_count": 74,
   "id": "fb78f576",
   "metadata": {},
   "outputs": [
    {
     "name": "stdout",
     "output_type": "stream",
     "text": [
      "review_scores_rating         0\n",
      "review_scores_cleanliness    0\n",
      "reviews_per_month            0\n",
      "dtype: int64\n"
     ]
    }
   ],
   "source": [
    "# Columna 'review_scores_rating','review_scores_cleanliness' y 'reviews_per_month'  con 9464 NAs\n",
    "# Lo mejor para esta columna es sustituir los valores por 0 ya que coincide que los valores faltantes se presenten cuando no hay 'estimated_revenue_l365d' lo que indica que son inactivos y no debería tener calificación en esas variables.\n",
    "df.loc[:,'review_scores_rating'] = df['review_scores_rating'].fillna(0)\n",
    "df.loc[:,'review_scores_cleanliness'] = df['review_scores_cleanliness'].fillna(0)\n",
    "df.loc[:,'reviews_per_month'] = df['reviews_per_month'].fillna(0)\n",
    "\n",
    "print(df[['review_scores_rating', 'review_scores_cleanliness', 'reviews_per_month']].isnull().sum())"
   ]
  },
  {
   "cell_type": "code",
   "execution_count": 83,
   "id": "70c73c5c",
   "metadata": {},
   "outputs": [
    {
     "data": {
      "text/plain": [
       "neighbourhood\n",
       "Bangkok, Krung Thep Maha Nakhon, Thailand                   940\n",
       "Khet Khlong Toei, Krung Thep Maha Nakhon, Thailand          900\n",
       "Bangkok, Thailand                                           708\n",
       "Khet Watthana, Krung Thep Maha Nakhon, Thailand             651\n",
       "Watthana, Krung Thep Maha Nakhon, Thailand                  553\n",
       "                                                           ... \n",
       "Khlong Toei Nuea, Watthana, Bangkok, Thailand                 1\n",
       "PRAKHANGONG, KHET PHRA KHANONG, Thailand                      1\n",
       "Krung Thep Maha Nakhon, Chang Wat Samut Prakan, Thailand      1\n",
       "Bang Na, Maha Nakhon Bangkok, Thailand                        1\n",
       "Khlongtoey, Bangkok, Thailand                                 1\n",
       "Name: count, Length: 622, dtype: int64"
      ]
     },
     "execution_count": 83,
     "metadata": {},
     "output_type": "execute_result"
    }
   ],
   "source": [
    "df['neighbourhood'].value_counts()"
   ]
  },
  {
   "cell_type": "code",
   "execution_count": 84,
   "id": "0833ab58",
   "metadata": {},
   "outputs": [],
   "source": [
    "# Columnas 'neighbourhood' con 17849 NAs\n",
    "# La mejor opción para tratar los NAs de esta columna es sustituirlos por la moda que es 'Bangkok, Thailand', ya que es la respuesta más común y representativa de la mayoría de los registros.\n",
    "df.loc[:, 'neighbourhood'] = df['neighbourhood'].fillna('Bangkok, Thailand')"
   ]
  },
  {
   "cell_type": "code",
   "execution_count": 85,
   "id": "a9f45203",
   "metadata": {},
   "outputs": [
    {
     "data": {
      "text/plain": [
       "id                           0\n",
       "name                         0\n",
       "description                  0\n",
       "neighbourhood_cleansed       0\n",
       "latitude                     0\n",
       "longitude                    0\n",
       "host_id                      0\n",
       "host_name                    0\n",
       "host_since                   0\n",
       "host_location                0\n",
       "host_response_time           0\n",
       "host_response_rate           0\n",
       "host_acceptance_rate         0\n",
       "host_is_superhost            0\n",
       "host_listings_count          0\n",
       "host_total_listings_count    0\n",
       "host_has_profile_pic         0\n",
       "host_identity_verified       0\n",
       "neighbourhood                0\n",
       "property_type                0\n",
       "room_type                    0\n",
       "accommodates                 0\n",
       "bathrooms_text               0\n",
       "bedrooms                     0\n",
       "beds                         0\n",
       "price                        0\n",
       "minimum_nights               0\n",
       "maximum_nights               0\n",
       "minimum_minimum_nights       0\n",
       "maximum_minimum_nights       0\n",
       "minimum_maximum_nights       0\n",
       "maximum_maximum_nights       0\n",
       "minimum_nights_avg_ntm       0\n",
       "maximum_nights_avg_ntm       0\n",
       "has_availability             0\n",
       "availability_30              0\n",
       "availability_60              0\n",
       "availability_90              0\n",
       "availability_365             0\n",
       "calendar_last_scraped        0\n",
       "number_of_reviews            0\n",
       "number_of_reviews_ltm        0\n",
       "number_of_reviews_l30d       0\n",
       "number_of_reviews_ly         0\n",
       "estimated_occupancy_l365d    0\n",
       "estimated_revenue_l365d      0\n",
       "review_scores_rating         0\n",
       "review_scores_cleanliness    0\n",
       "instant_bookable             0\n",
       "reviews_per_month            0\n",
       "dtype: int64"
      ]
     },
     "execution_count": 85,
     "metadata": {},
     "output_type": "execute_result"
    }
   ],
   "source": [
    "df.isnull().sum()"
   ]
  },
  {
   "cell_type": "code",
   "execution_count": 86,
   "id": "b8ee0407",
   "metadata": {},
   "outputs": [],
   "source": [
    "df.to_csv('Thailand_sin_NAs.csv')"
   ]
  }
 ],
 "metadata": {
  "kernelspec": {
   "display_name": "Python 3",
   "language": "python",
   "name": "python3"
  },
  "language_info": {
   "codemirror_mode": {
    "name": "ipython",
    "version": 3
   },
   "file_extension": ".py",
   "mimetype": "text/x-python",
   "name": "python",
   "nbconvert_exporter": "python",
   "pygments_lexer": "ipython3",
   "version": "3.13.6"
  }
 },
 "nbformat": 4,
 "nbformat_minor": 5
}
